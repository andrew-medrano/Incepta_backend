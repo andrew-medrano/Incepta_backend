{
 "cells": [
  {
   "cell_type": "code",
   "execution_count": 12,
   "metadata": {},
   "outputs": [
    {
     "name": "stdout",
     "output_type": "stream",
     "text": [
      "Cleaned columns:\n",
      "Index(['OPPORTUNITY TITLE', 'AGENCY CODE', 'OPPORTUNITY STATUS', 'POSTED DATE',\n",
      "       'CLOSE DATE', 'LINK', 'OPPORTUNITY NUMBER', 'CATEGORY',\n",
      "       'LAST_UPDATED_DATE', 'POSTED_DATE', 'APPLICATION_DEADLINE',\n",
      "       'TOTAL_FUNDING_AMOUNT', 'AWARD_CEILING', 'AWARD_FLOOR', 'DESCRIPTION'],\n",
      "      dtype='object')\n",
      "\n",
      "Unique Agency Codes:\n",
      "AC\n",
      "DHS\n",
      "DOC\n",
      "DOD\n",
      "DOE\n",
      "DOI\n",
      "DOL\n",
      "DOS\n",
      "DOT\n",
      "ED\n",
      "EPA\n",
      "HHS\n",
      "HUD\n",
      "IMLS\n",
      "IVV\n",
      "MCC\n",
      "NASA\n",
      "NEA\n",
      "NEH\n",
      "NSF\n",
      "PAMS\n",
      "SCRC\n",
      "USAID\n",
      "USDA\n",
      "USDOJ\n",
      "USDOT\n",
      "VA\n",
      "\n",
      "Total number of unique agencies: 27\n",
      "['USAID' 'DOS' 'ED' 'DOC' 'HHS' 'DOI' 'NSF' 'DOT' 'DOE' 'USDOJ' 'NEH'\n",
      " 'USDA' 'EPA' 'NASA' 'DOL' 'DHS' 'DOD' 'PAMS' 'IMLS' 'SCRC' 'HUD' 'VA'\n",
      " 'USDOT' 'AC' 'NEA' 'IVV' 'MCC']\n"
     ]
    }
   ],
   "source": [
    "import pandas as pd\n",
    "\n",
    "# Read the CSV file\n",
    "df = pd.read_csv('/Users/andre/startup/Incepta_backend/data/grants/grants_gov_scraped_2024_11_20.csv')\n",
    "\n",
    "# Clean column names by stripping whitespace\n",
    "df.columns = df.columns.str.strip()\n",
    "\n",
    "print(\"Cleaned columns:\")\n",
    "print(df.columns)\n",
    "\n",
    "# Now get unique agency codes\n",
    "unique_agencies = df['AGENCY CODE'].str.split('-').str[0].str.strip().unique()\n",
    "\n",
    "print(\"\\nUnique Agency Codes:\")\n",
    "for agency in sorted(unique_agencies):\n",
    "    print(agency)\n",
    "\n",
    "print(f\"\\nTotal number of unique agencies: {len(unique_agencies)}\")\n",
    "\n",
    "print(unique_agencies)"
   ]
  },
  {
   "cell_type": "code",
   "execution_count": 20,
   "metadata": {},
   "outputs": [
    {
     "name": "stdout",
     "output_type": "stream",
     "text": [
      "                                                                                                                                                                                                                                                      OPPORTUNITY TITLE  \\\n",
      "735  Fiscal Year (FY) 2024 AmeriCorps State and National Competitive Grants                                                                                                                                                                                               \n",
      "\n",
      "                   AGENCY CODE   OPPORTUNITY STATUS   POSTED DATE  \\\n",
      "735  AC                         posted               08/20/2024     \n",
      "\n",
      "      CLOSE DATE                                                  LINK  \\\n",
      "735  01/23/2025   https://www.grants.gov/search-results-detail/355964    \n",
      "\n",
      "                          OPPORTUNITY NUMBER  \\\n",
      "735  AC-08-20-24                               \n",
      "\n",
      "                                                                                                                                                                                                                                                                                                                                                                                                                                                                                                                                                                                                                                                                                                                                                                                                                                                                                                                                                                                                                                                                                                                                                                                                                                                                                                                                                                                                                                                                                                                                                                                                                                                                                                                                                                                                                                                                                                                                                                                                                                                                                                                                                                                                                                                                                                                                                                                                                                                                                                                                                                                                                                                                                                                                                                                                                                                                                                                                                                                                                                                                                                                                                                                                                                                                                                                                                                                                                                                                                                                                                                                                                                                                                                                                                                                CATEGORY  \\\n",
      "735  Community Development\\n                                                                                                                                                                                                                                                                                                                                                                                                                                       Disaster Prevention and Relief\\n                                                                                                                                                                                                                                                                                                                                                                                                                                       Education\\n                                                                                                                                                                                                                                                                                                                                                                                                                                       Employment, Labor and Training\\n                                                                                                                                                                                                                                                                                                                                                                                                                                       Environment\\n                                                                                                                                                                                                                                                                                                                                                                                                                                       Food and Nutrition\\n                                                                                                                                                                                                                                                                                                                                                                                                                                       Health\\n                                                                                                                                                                                                                                                                                                                                                                                                                                       Housing\\n                                                                                                                                                                                                                                                                                                                                                                                                                                       Other (see text field entitled \"Explanation of Other Category of Funding Activity\" for clarification)     \n",
      "\n",
      "    LAST_UPDATED_DATE    POSTED_DATE  \\\n",
      "735  Aug 20, 2024      Aug 20, 2024    \n",
      "\n",
      "                                                                                                                                                                                                                                                                                                                                                                                                                                                                                                                                                                                                                                                                                                                                                                                                                                                                                                                                                                                                                                                                                                                                                                                                                                                                                                                                                                                                                                                                                                                                                                                                                                                                                                                                                                                                                                                                                                                                                                                                                                                                                                                                                                                                                                                                                                                                                                                                                                                                                                                                                                                                                                                                                                                                                                                                                                                                                                                                                                                                                                                                                                                                                                                                                                                                                                                                                                                                                                                                                                                                                                                                                                                                                                                                                                  APPLICATION_DEADLINE  \\\n",
      "735  Jan 23, 2025                                                                                                                                                                                                                                                                                                                                                                                                                                                                                                                                                                                                                                                                                                                                                                                                                                                                                                                                                                                                                                                                                                                                                                                                                                                                                                                                                                                                                                                                                                                                                                                                                                                                                                                                                                                                                                                                                                                                                                                                                                                                                                                                                                                                                                                                                                                                                                                                                                                                                                                                                                                                                                                                                                                                                                                                                                                                                                                                                                                                                                                                                                                                                                                                                                                                                                                                                                                                                                                                                                                                                                                                                                                                                                                                                                        \n",
      "\n",
      "      TOTAL_FUNDING_AMOUNT      AWARD_CEILING      AWARD_FLOOR  \\\n",
      "735                         $                  $                 \n",
      "\n",
      "                                                                                                                                                                                                                                                                                                                                                                                                                                                                                                                                                                                                                                                                                                                                                                                                                                                                                                                                                                                                                                                                                                                                                                                                                                                                                                                                                                                                                                                                                                                                                                                                                                                                                                                                                                                                                                                                                                                                                                                                                                                                                                                                                                                                                                                                                                                                                                                                                                                                                                                                                                                                                                                                                                                                                                                                                                                                                                                                                                                                                                                                                                                                                                                                                                                                                                                                                                                                                                                                                                                                                                                                                                                                                                                                                                                                                                                                                                                                                                                                                                                                                                                                                                                                                                                                                                                                                                                                                                                                                                                                                                                                                                                                                                                                                                                                                                                                                                                                                                                                                                                                                                                                                                                                                                                                                                      DESCRIPTION  \n",
      "735  AmeriCorps improves lives, strengthens communities, and fosters civic engagement through service and volunteering. AmeriCorps brings people together to tackle some of the country’s most pressing challenges through national service and volunteerism. AmeriCorps members serve with organizations dedicated to the improvement of communities and those serving.\\n                                                                                                                                                                                                                                                                                                                                                                                                                                                                                                                                                                                                                                                                                                                                                                                                                                                                                                                                                                                                                                                                                                                                                                                                                                                                                                                                                                                                                                                                                                                                                                                                                                                                                                                                                                                                                                                                                                                                                                                                                                                                                                                                                                                                                                                                                                                                                                                                                                                                                                                                                                                                                                                                                                                                                                                                                                                                                                                                                                                                                                                                                                                                                                                                                                                                                                                                                                                                                                                                                                                                                                                                                                                                                                                                                                                                                                                                                                                                                                                                                                                                                                                                                                                                                                                                                                                                                                                                                                 AmeriCorps grants are awarded to eligible organizations that engage AmeriCorps members in evidence-based or evidence-informed interventions to strengthen communities. An AmeriCorps member is a person who does community service through AmeriCorps. Members may receive a living allowance and other benefits. After successful completion of their service, members earn a Segal AmeriCorps Education Award they can use to pay for higher education expenses or apply to qualified student loans.  \n"
     ]
    }
   ],
   "source": [
    "import pandas as pd\n",
    "\n",
    "# Read the CSV file\n",
    "df = pd.read_csv('/Users/andre/startup/Incepta_backend/data/grants/grants_gov_scraped_2024_11_20.csv')\n",
    "\n",
    "# Clean column names by stripping whitespace\n",
    "df.columns = df.columns.str.strip()\n",
    "\n",
    "# Look for PAMS related entries\n",
    "pams_entries = df[df['AGENCY CODE'].str.startswith('AC', na=False)]\n",
    "\n",
    "# Show the agency name and code\n",
    "pd.set_option('display.max_colwidth', None)  # Show full text\n",
    "print(pams_entries)\n"
   ]
  },
  {
   "cell_type": "markdown",
   "metadata": {},
   "source": []
  }
 ],
 "metadata": {
  "kernelspec": {
   "display_name": "Python 3",
   "language": "python",
   "name": "python3"
  },
  "language_info": {
   "codemirror_mode": {
    "name": "ipython",
    "version": 3
   },
   "file_extension": ".py",
   "mimetype": "text/x-python",
   "name": "python",
   "nbconvert_exporter": "python",
   "pygments_lexer": "ipython3",
   "version": "3.13.0"
  }
 },
 "nbformat": 4,
 "nbformat_minor": 2
}

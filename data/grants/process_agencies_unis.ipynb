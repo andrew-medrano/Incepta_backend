{
 "cells": [
  {
   "cell_type": "code",
   "execution_count": 12,
   "metadata": {},
   "outputs": [
    {
     "name": "stdout",
     "output_type": "stream",
     "text": [
      "Cleaned columns:\n",
      "Index(['OPPORTUNITY TITLE', 'AGENCY CODE', 'OPPORTUNITY STATUS', 'POSTED DATE',\n",
      "       'CLOSE DATE', 'LINK', 'OPPORTUNITY NUMBER', 'CATEGORY',\n",
      "       'LAST_UPDATED_DATE', 'POSTED_DATE', 'APPLICATION_DEADLINE',\n",
      "       'TOTAL_FUNDING_AMOUNT', 'AWARD_CEILING', 'AWARD_FLOOR', 'DESCRIPTION'],\n",
      "      dtype='object')\n",
      "\n",
      "Unique Agency Codes:\n",
      "AC\n",
      "DHS\n",
      "DOC\n",
      "DOD\n",
      "DOE\n",
      "DOI\n",
      "DOL\n",
      "DOS\n",
      "DOT\n",
      "ED\n",
      "EPA\n",
      "HHS\n",
      "HUD\n",
      "IMLS\n",
      "IVV\n",
      "MCC\n",
      "NASA\n",
      "NEA\n",
      "NEH\n",
      "NSF\n",
      "PAMS\n",
      "SCRC\n",
      "USAID\n",
      "USDA\n",
      "USDOJ\n",
      "USDOT\n",
      "VA\n",
      "\n",
      "Total number of unique agencies: 27\n",
      "['USAID' 'DOS' 'ED' 'DOC' 'HHS' 'DOI' 'NSF' 'DOT' 'DOE' 'USDOJ' 'NEH'\n",
      " 'USDA' 'EPA' 'NASA' 'DOL' 'DHS' 'DOD' 'PAMS' 'IMLS' 'SCRC' 'HUD' 'VA'\n",
      " 'USDOT' 'AC' 'NEA' 'IVV' 'MCC']\n"
     ]
    }
   ],
   "source": [
    "import pandas as pd\n",
    "\n",
    "# Read the CSV file\n",
    "df = pd.read_csv('/Users/andre/startup/Incepta_backend/data/grants/grants_gov_scraped_2024_11_20.csv')\n",
    "\n",
    "# Clean column names by stripping whitespace\n",
    "df.columns = df.columns.str.strip()\n",
    "\n",
    "print(\"Cleaned columns:\")\n",
    "print(df.columns)\n",
    "\n",
    "# Now get unique agency codes\n",
    "unique_agencies = df['AGENCY CODE'].str.split('-').str[0].str.strip().unique()\n",
    "\n",
    "print(\"\\nUnique Agency Codes:\")\n",
    "for agency in sorted(unique_agencies):\n",
    "    print(agency)\n",
    "\n",
    "print(f\"\\nTotal number of unique agencies: {len(unique_agencies)}\")\n",
    "\n",
    "print(unique_agencies)"
   ]
  },
  {
   "cell_type": "code",
   "execution_count": 17,
   "metadata": {},
   "outputs": [
    {
     "name": "stdout",
     "output_type": "stream",
     "text": [
      "\n",
      "Full descriptions of PAMS entries:\n",
      "5       FY25 Pacific Islands - Hawai'i Marine Wildlife Response and Outreach                                                                                                                                                                                              \n",
      "16      FY2025 NMFS-Sea Grant Fellowship in Population and Ecosystem Dynamics and Marine Resource Economics                                                                                                                                                               \n",
      "96      NOAA Small Business Innovation Research (SBIR) Program- FY25 Phase I                                                                                                                                                                                              \n",
      "260     Sea Grant Programs Only - FY2025 Establishing and Supporting Partnerships with Minority Serving Institutions (MSIs) in Aquaculture: Regional Collaboratives                                                                                                       \n",
      "282       CHIPS AI/AE for Rapid, Industry-informed Sustainable Semiconductor Materials and Processes (CARISSMA) Competition                                                                                                                                               \n",
      "                                                                                                                                       ...                                                                                                                                \n",
      "2499    EDA Seattle FY 2016–FY 2019 Planning Program and Local Technical Assistance Program                                                                                                                                                                               \n",
      "2500    EDA Atlanta FY 2016–FY 2019 Planning Program and Local Technical Assistance Program                                                                                                                                                                               \n",
      "2501    EDA Austin FY 2016–FY 2019 Planning Program and Local Technical Assistance Program                                                                                                                                                                                \n",
      "2502    EDA Philadelphia FY 2016–FY 2019 Planning Program and Local Technical Assistance Program                                                                                                                                                                          \n",
      "2562    Climate Program Office for FY 2012                                                                                                                                                                                                                                \n",
      "Name: OPPORTUNITY TITLE, Length: 73, dtype: object\n"
     ]
    }
   ],
   "source": [
    "import pandas as pd\n",
    "\n",
    "# Read the CSV file\n",
    "df = pd.read_csv('/Users/andre/startup/Incepta_backend/data/grants/grants_gov_scraped_2024_11_20.csv')\n",
    "\n",
    "# Clean column names by stripping whitespace\n",
    "df.columns = df.columns.str.strip()\n",
    "\n",
    "# Look for PAMS related entries\n",
    "pams_entries = df[df['AGENCY CODE'].str.startswith('DOC', na=False)]\n",
    "\n",
    "# Show the agency name and code\n",
    "print(\"\\nFull descriptions of PAMS entries:\")\n",
    "pd.set_option('display.max_colwidth', None)  # Show full text\n",
    "print(pams_entries['OPPORTUNITY TITLE'])\n"
   ]
  },
  {
   "cell_type": "markdown",
   "metadata": {},
   "source": []
  }
 ],
 "metadata": {
  "kernelspec": {
   "display_name": "Python 3",
   "language": "python",
   "name": "python3"
  },
  "language_info": {
   "codemirror_mode": {
    "name": "ipython",
    "version": 3
   },
   "file_extension": ".py",
   "mimetype": "text/x-python",
   "name": "python",
   "nbconvert_exporter": "python",
   "pygments_lexer": "ipython3",
   "version": "3.13.0"
  }
 },
 "nbformat": 4,
 "nbformat_minor": 2
}

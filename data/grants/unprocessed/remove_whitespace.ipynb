{
 "cells": [
  {
   "cell_type": "code",
   "execution_count": 3,
   "metadata": {},
   "outputs": [
    {
     "name": "stdout",
     "output_type": "stream",
     "text": [
      "Enhanced whitespace removal complete for both column names and values. Saved to grants_gov_scraped_2024_11_20_cleaned.csv\n"
     ]
    }
   ],
   "source": [
    "import pandas as pd\n",
    "\n",
    "# Read the CSV file\n",
    "df = pd.read_csv(\"grants_gov_scraped_2024_11_20.csv\")\n",
    "\n",
    "# Clean column names - remove extra whitespace and standardize\n",
    "df.columns = [' '.join(col.split()).strip() for col in df.columns]\n",
    "\n",
    "# Clean whitespace from all string columns\n",
    "for column in df.select_dtypes(include=['object']).columns:\n",
    "    # Replace multiple spaces with single space and strip leading/trailing whitespace\n",
    "    # Handle NaN values with fillna\n",
    "    df[column] = df[column].fillna('').astype(str).apply(lambda x: ' '.join(x.split())).str.strip()\n",
    "\n",
    "# Save cleaned dataframe to new CSV\n",
    "df.to_csv(\"grants_gov_scraped_2024_11_20_cleaned.csv\", index=False)\n",
    "\n",
    "print(\"Enhanced whitespace removal complete for both column names and values. Saved to grants_gov_scraped_2024_11_20_cleaned.csv\")"
   ]
  }
 ],
 "metadata": {
  "kernelspec": {
   "display_name": "Python 3",
   "language": "python",
   "name": "python3"
  },
  "language_info": {
   "codemirror_mode": {
    "name": "ipython",
    "version": 3
   },
   "file_extension": ".py",
   "mimetype": "text/x-python",
   "name": "python",
   "nbconvert_exporter": "python",
   "pygments_lexer": "ipython3",
   "version": "3.13.0"
  }
 },
 "nbformat": 4,
 "nbformat_minor": 2
}

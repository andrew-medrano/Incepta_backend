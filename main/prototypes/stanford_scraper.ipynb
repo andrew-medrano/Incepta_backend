{
 "cells": [
  {
   "cell_type": "code",
   "execution_count": 12,
   "metadata": {},
   "outputs": [],
   "source": [
    "import requests\n",
    "from bs4 import BeautifulSoup\n",
    "import pandas as pd\n",
    "import time\n",
    "from typing import List, Dict"
   ]
  },
  {
   "cell_type": "code",
   "execution_count": 13,
   "metadata": {},
   "outputs": [],
   "source": [
    "base_url = \"https://techfinder.stanford.edu/\"\n",
    "response = requests.get(base_url)\n",
    "soup = BeautifulSoup(response.content, 'html.parser')"
   ]
  },
  {
   "cell_type": "code",
   "execution_count": 14,
   "metadata": {},
   "outputs": [
    {
     "name": "stdout",
     "output_type": "stream",
     "text": [
      "['An Adjustable Mitral Ring for Asymmetric and Continuous Off-Bypass Annulus Reduction', 'Anatomically conforming device for tricuspid valve annuloplasty', 'Diode-pumped photonic integrated titanium-sapphire waveguide amplifier', 'Wafer-Scale Thin-Film Titanium:Sapphire Photonics', 'Hypoxia-mediated resistance of Homologous recombination-deficient cancer cells to PARP inhibitors', 'Optoelectronic orchestrated microdroplet reactors for solid-phase reactions', 'Compositions and Methods Related to Coronavirus Therapies', 'Genetically Encoded Lysosome Targeting Chimeras for Cell-mediated Delivery', '3D Printing of Organoid Slurries', '3D Heat Spreading (Heat-plating) from Semiconductor Devices', 'Generation and tracking of cells with precise edits', 'Improved cfDNA methylation profiling through correction of misrepaired jagged-ends', 'B7H3-Targeting Peptides', 'Efficient wide-field nanosecond imaging methods using Pockels cells for low-light applications', 'Wide-field Resonant Electro-optic Imaging Devices and Applications']\n"
     ]
    }
   ],
   "source": [
    "def get_all_titles():\n",
    "    response = requests.get(base_url)\n",
    "    soup = BeautifulSoup(response.content, 'html.parser')\n",
    "    titles = soup.find_all('h3', class_='teaser__title')\n",
    "    return [title.text.strip() for title in titles]\n",
    "\n",
    "print(get_all_titles())"
   ]
  },
  {
   "cell_type": "code",
   "execution_count": 15,
   "metadata": {},
   "outputs": [],
   "source": [
    "def get_all_pages_soups(limit: int = 130):\n",
    "    num_pages = min(limit, 130)\n",
    "    soups = []\n",
    "    for page in range(0, num_pages):\n",
    "        url = f\"{base_url}?page={page}\"\n",
    "        response = requests.get(url)\n",
    "        soup = BeautifulSoup(response.content, 'html.parser')\n",
    "        soups.append(soup)\n",
    "    return soups\n",
    "\n",
    "def get_titles_from_page_soup(soup):\n",
    "    titles = soup.find_all('h3', class_='teaser__title')\n",
    "    return [title.text.strip() for title in titles]\n",
    "        \n",
    "all_pages_soups = get_all_pages_soups(1)"
   ]
  },
  {
   "cell_type": "code",
   "execution_count": 16,
   "metadata": {},
   "outputs": [
    {
     "name": "stdout",
     "output_type": "stream",
     "text": [
      "An Adjustable Mitral Ring for Asymmetric and Continuous Off-Bypass Annulus Reduction\n",
      "Anatomically conforming device for tricuspid valve annuloplasty\n",
      "Diode-pumped photonic integrated titanium-sapphire waveguide amplifier\n",
      "Wafer-Scale Thin-Film Titanium:Sapphire Photonics\n",
      "Hypoxia-mediated resistance of Homologous recombination-deficient cancer cells to PARP inhibitors\n",
      "Optoelectronic orchestrated microdroplet reactors for solid-phase reactions\n",
      "Compositions and Methods Related to Coronavirus Therapies\n",
      "Genetically Encoded Lysosome Targeting Chimeras for Cell-mediated Delivery\n",
      "3D Printing of Organoid Slurries\n",
      "3D Heat Spreading (Heat-plating) from Semiconductor Devices\n",
      "Generation and tracking of cells with precise edits\n",
      "Improved cfDNA methylation profiling through correction of misrepaired jagged-ends\n",
      "B7H3-Targeting Peptides\n",
      "Efficient wide-field nanosecond imaging methods using Pockels cells for low-light applications\n",
      "Wide-field Resonant Electro-optic Imaging Devices and Applications\n"
     ]
    }
   ],
   "source": [
    "for soup in all_pages_soups:\n",
    "    for title in get_titles_from_page_soup(soup):\n",
    "        print(title)\n"
   ]
  },
  {
   "cell_type": "code",
   "execution_count": 17,
   "metadata": {},
   "outputs": [
    {
     "name": "stdout",
     "output_type": "stream",
     "text": [
      "https://techfinder.stanford.edu/technology/adjustable-mitral-ring-asymmetric-and-continuous-bypass-annulus-reduction\n",
      "https://techfinder.stanford.edu/technology/anatomically-conforming-device-tricuspid-valve-annuloplasty\n",
      "https://techfinder.stanford.edu/technology/diode-pumped-photonic-integrated-titanium-sapphire-waveguide-amplifier\n",
      "https://techfinder.stanford.edu/technology/wafer-scale-thin-film-titaniumsapphire-photonics\n",
      "https://techfinder.stanford.edu/technology/hypoxia-mediated-resistance-homologous-recombination-deficient-cancer-cells-parp\n",
      "https://techfinder.stanford.edu/technology/optoelectronic-orchestrated-microdroplet-reactors-solid-phase-reactions\n",
      "https://techfinder.stanford.edu/technology/compositions-and-methods-related-coronavirus-therapies\n",
      "https://techfinder.stanford.edu/technology/genetically-encoded-lysosome-targeting-chimeras-cell-mediated-delivery\n",
      "https://techfinder.stanford.edu/technology/3d-printing-organoid-slurries\n",
      "https://techfinder.stanford.edu/technology/3d-heat-spreading-heat-plating-semiconductor-devices\n",
      "https://techfinder.stanford.edu/technology/generation-and-tracking-cells-precise-edits\n",
      "https://techfinder.stanford.edu/technology/improved-cfdna-methylation-profiling-through-correction-misrepaired-jagged-ends\n",
      "https://techfinder.stanford.edu/technology/b7h3-targeting-peptides\n",
      "https://techfinder.stanford.edu/technology/efficient-wide-field-nanosecond-imaging-methods-using-pockels-cells-low-light\n",
      "https://techfinder.stanford.edu/technology/wide-field-resonant-electro-optic-imaging-devices-and-applications\n"
     ]
    }
   ],
   "source": [
    "def get_links_from_page_soup(soup):\n",
    "    links = [base_url[:-1] + title.find('a')['href'] for title in soup.find_all('h3', class_='teaser__title')]\n",
    "    return links\n",
    "\n",
    "all_pages_soups = get_all_pages_soups(1)\n",
    "for soup in all_pages_soups:\n",
    "    for link in get_links_from_page_soup(soup):\n",
    "        print(link)"
   ]
  },
  {
   "cell_type": "code",
   "execution_count": 18,
   "metadata": {},
   "outputs": [],
   "source": [
    "def get_subpage_soup(link: str):\n",
    "    response = requests.get(link)\n",
    "    soup = BeautifulSoup(response.content, 'html.parser')\n",
    "    return soup\n",
    "\n",
    "all_links = []\n",
    "for soup in all_pages_soups:\n",
    "    for link in get_links_from_page_soup(soup):\n",
    "        all_links.append(link)\n"
   ]
  },
  {
   "cell_type": "code",
   "execution_count": 25,
   "metadata": {},
   "outputs": [
    {
     "name": "stdout",
     "output_type": "stream",
     "text": [
      "Stanford researchers have designed a novel tricuspid annuloplasty ring that minimizes the risk of interrupting cardiac conduction during implantation. Tricuspid regurgitation is a prevalent heart condition in which the tricuspid valve fails to close completely during ventricular contraction. The disrupted unidirectional blood flow could lead to abnormal pressure or volume overload. Patients with moderate to severe cases may require annuloplasty, where a ring device is implanted over the annulus around the tricuspid valve to support valve leaflets. While securing the device, sutures often inadvertently cross the bundle of His in the septum, disrupting heart conduction. To avoid this complication, there is a critical need for alternate annuloplasty devices. Researchers in the Woo Lab at Stanford have created a modular annuloplasty device that avoids suture placement in conduction tissue. Its most basic form is a C-shaped band with a wide gap between the two ends to avoid traversing over the septal leaflet. The device can be further secured by adding a flexible polymer that joins the ends of the device. Alternatively, the ends can be conjoined with a bridge-like structure that bends away from the valve. The bridge is angled to conform to the septal wall and aorta, improving retention. Figure Applications include Tricuspid valve annuloplasty. Advantages of the device are No suture placement in conduction tissue, Reduced need for pacemakers, Improved retention strength, Reduced recurrent regurgitation.\n"
     ]
    }
   ],
   "source": [
    "\n",
    "first_link = all_links[1]\n",
    "first_soup = get_subpage_soup(first_link)\n",
    "\n",
    "def get_descriptions_applications_advantages(subpage_soup: BeautifulSoup):\n",
    "    # Get applications and advantages\n",
    "    applications = [li.get_text() for li in subpage_soup.find('h2', string=\"Applications\").find_next('ul').find_all('li')]\n",
    "    advantages = [li.get_text() for li in subpage_soup.find('h2', string=\"Advantages\").find_next('ul').find_all('li')]\n",
    "    \n",
    "    # Get descriptions\n",
    "    descriptions = [para.get_text().strip() for para in subpage_soup.find('div', class_='docket__text').find_all('p')]\n",
    "    full_description = \" \".join(descriptions)\n",
    "\n",
    "    # Construct the final paragraph with applications and advantages\n",
    "    full_paragraph = f\"{full_description} Applications include {', '.join(applications)}. Advantages of the device are {', '.join(advantages)}.\"\n",
    "\n",
    "    return full_paragraph\n",
    "\n",
    "print(get_descriptions_applications_advantages(first_soup))"
   ]
  }
 ],
 "metadata": {
  "kernelspec": {
   "display_name": "Python 3",
   "language": "python",
   "name": "python3"
  },
  "language_info": {
   "codemirror_mode": {
    "name": "ipython",
    "version": 3
   },
   "file_extension": ".py",
   "mimetype": "text/x-python",
   "name": "python",
   "nbconvert_exporter": "python",
   "pygments_lexer": "ipython3",
   "version": "3.12.6"
  }
 },
 "nbformat": 4,
 "nbformat_minor": 2
}
